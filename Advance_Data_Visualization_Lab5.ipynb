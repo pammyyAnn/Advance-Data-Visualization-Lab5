{
  "nbformat": 4,
  "nbformat_minor": 0,
  "metadata": {
    "colab": {
      "provenance": [],
      "authorship_tag": "ABX9TyPl33iGRH2HM6A7KOfkc6gV",
      "include_colab_link": true
    },
    "kernelspec": {
      "name": "python3",
      "display_name": "Python 3"
    },
    "language_info": {
      "name": "python"
    }
  },
  "cells": [
    {
      "cell_type": "markdown",
      "metadata": {
        "id": "view-in-github",
        "colab_type": "text"
      },
      "source": [
        "<a href=\"https://colab.research.google.com/github/pammyyAnn/Advance-Data-Visualization-Lab5/blob/main/Advance_Data_Visualization_Lab5.ipynb\" target=\"_parent\"><img src=\"https://colab.research.google.com/assets/colab-badge.svg\" alt=\"Open In Colab\"/></a>"
      ]
    },
    {
      "cell_type": "code",
      "execution_count": 3,
      "metadata": {
        "colab": {
          "base_uri": "https://localhost:8080/"
        },
        "id": "P4zFq1LTkgXw",
        "outputId": "e412d9ef-b133-4d47-cd3c-ce77f86e4233"
      },
      "outputs": [
        {
          "output_type": "stream",
          "name": "stdout",
          "text": [
            "Enter your choice:1\n",
            "Enter two numbers: \n",
            "8\n",
            "2\n",
            "Result =  10.0\n"
          ]
        }
      ],
      "source": [
        "choice = int(input(\"Enter your choice:\"))\n",
        "print(\"Enter two numbers: \")\n",
        "num1 = float(input())\n",
        "num2 = float(input())\n",
        "\n",
        "if choice == 1:\n",
        "  res = num1 + num2\n",
        "  print(\"Result = \", res)\n",
        "\n",
        "elif choice == 2:\n",
        "  res = num1 - num2\n",
        "  print(\"Result = \", res)\n",
        "\n",
        "elif choice == 3:\n",
        "  res = num1 * num2\n",
        "  print(\"Result = \", res)\n",
        "\n",
        "elif choice == 4:\n",
        "  res = num1 / num2\n",
        "  print(\"Result = \", res)\n",
        "\n",
        "elif choice == 5:\n",
        "  exit()\n",
        "else: \n",
        "  print(\"Wrong input..!!\")\n",
        "\n"
      ]
    }
  ]
}